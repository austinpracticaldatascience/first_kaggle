{
 "cells": [
  {
   "cell_type": "markdown",
   "id": "8af71d1e-b9d8-4b34-8ac1-7dfd24e1de8a",
   "metadata": {},
   "source": [
    "## Quickstart for (maybe) your first Kaggle competition"
   ]
  },
  {
   "cell_type": "markdown",
   "id": "d987a02b-9794-4be3-aec8-fcd45da7b6b3",
   "metadata": {},
   "source": [
    "We will be starting with the House Prices - Advanced Regression Techniques competition\n",
    "\n",
    "#### Goal\n",
    "\n",
    "It is your job to predict the sales price for each house. For each Id in the test set, you must predict the value of the SalePrice variable. \n",
    "\n",
    "#### Metric\n",
    "Submissions are evaluated on Root-Mean-Squared-Error (RMSE) between the logarithm of the predicted value and the logarithm of the observed sales price. (Taking logs means that errors in predicting expensive houses and cheap houses will affect the result equally.)"
   ]
  },
  {
   "cell_type": "code",
   "execution_count": 22,
   "id": "d2de35cf-3cec-4420-8ad1-4f47be28773c",
   "metadata": {
    "tags": []
   },
   "outputs": [],
   "source": [
    "import zipfile\n",
    "import pandas as pd"
   ]
  },
  {
   "cell_type": "markdown",
   "id": "80910731-b895-4bb6-82ab-b09dbecf158a",
   "metadata": {},
   "source": [
    "Install Kaggle API interface"
   ]
  },
  {
   "cell_type": "code",
   "execution_count": 1,
   "id": "892f7142-d9cd-4c90-9753-0870f6a55043",
   "metadata": {
    "tags": []
   },
   "outputs": [
    {
     "data": {
      "text/plain": [
       "2"
      ]
     },
     "execution_count": 1,
     "metadata": {},
     "output_type": "execute_result"
    }
   ],
   "source": [
    "#!pip install kaggle"
   ]
  },
  {
   "cell_type": "markdown",
   "id": "e61df2ad-9bbd-4dc2-b15b-e1d98d16624e",
   "metadata": {},
   "source": [
    "Register & then create an API key at: https://www.kaggle.com/settings/account\n",
    "\n",
    "Then click \"Create New Token\"\n",
    "\n",
    "Move the downloaded file to ~/.kaggle/kaggle.json"
   ]
  },
  {
   "cell_type": "code",
   "execution_count": 15,
   "id": "3583e283-14a7-44b6-a466-2578088f7b5a",
   "metadata": {
    "tags": []
   },
   "outputs": [],
   "source": [
    "# ignore this, unless you are having issue with the kaggle.json file\n",
    "#!export KAGGLE_USERNAME=\n",
    "#!export KAGGLE_KEY="
   ]
  },
  {
   "cell_type": "code",
   "execution_count": 16,
   "id": "2f4ab67f-da80-422c-ae3c-c26437d98b0a",
   "metadata": {
    "tags": []
   },
   "outputs": [
    {
     "name": "stdout",
     "output_type": "stream",
     "text": [
      "name                    size  creationDate         \n",
      "---------------------  -----  -------------------  \n",
      "sample_submission.csv   31KB  2019-12-15 21:33:33  \n",
      "train.csv              450KB  2019-12-15 21:33:33  \n",
      "test.csv               441KB  2019-12-15 21:33:33  \n",
      "data_description.txt    13KB  2019-12-15 21:33:33  \n"
     ]
    }
   ],
   "source": [
    "!kaggle competitions files house-prices-advanced-regression-techniques"
   ]
  },
  {
   "cell_type": "code",
   "execution_count": 17,
   "id": "04b4034d-b059-4174-abbb-fa1f5d3b4303",
   "metadata": {
    "tags": []
   },
   "outputs": [
    {
     "name": "stdout",
     "output_type": "stream",
     "text": [
      "house-prices-advanced-regression-techniques.zip: Skipping, found more recently modified local copy (use --force to force download)\n"
     ]
    }
   ],
   "source": [
    "!kaggle competitions download house-prices-advanced-regression-techniques"
   ]
  },
  {
   "cell_type": "code",
   "execution_count": 19,
   "id": "8ab337ac-7b03-47bb-9b0b-41ef3f10ecec",
   "metadata": {
    "tags": []
   },
   "outputs": [],
   "source": [
    "with zipfile.ZipFile('house-prices-advanced-regression-techniques.zip', 'r') as zip_in_file:\n",
    "    zip_in_file.extractall('data')"
   ]
  },
  {
   "cell_type": "markdown",
   "id": "039f8554-c4c9-4b00-805f-bb05ecc2734f",
   "metadata": {
    "tags": []
   },
   "source": [
    "### We can use other participants code (notebooks), known as kernels\n",
    "\n",
    "We can also use the API to grab these"
   ]
  },
  {
   "cell_type": "code",
   "execution_count": null,
   "id": "6cbf962d-0114-44f0-bb0c-3052fa637fae",
   "metadata": {
    "tags": []
   },
   "outputs": [],
   "source": [
    "!kaggle kernels pull computervisi/eda-house-prices"
   ]
  },
  {
   "cell_type": "markdown",
   "id": "b7e637ca-8c5e-4c1e-9207-9e1b757efcd0",
   "metadata": {
    "tags": []
   },
   "source": [
    "### Now go to the `eda-house-prices.ipynb` notebook, we will come back here later when ready to submit!"
   ]
  },
  {
   "cell_type": "code",
   "execution_count": null,
   "id": "0a9aeb67-87c8-4db1-bcde-6ec61991c479",
   "metadata": {},
   "outputs": [],
   "source": []
  },
  {
   "cell_type": "code",
   "execution_count": null,
   "id": "8b0cb025-628d-45a2-b584-a70de32a9856",
   "metadata": {},
   "outputs": [],
   "source": []
  },
  {
   "cell_type": "code",
   "execution_count": null,
   "id": "82d972a8-d9fb-43ca-99da-0e28db04f4c7",
   "metadata": {},
   "outputs": [],
   "source": []
  },
  {
   "cell_type": "code",
   "execution_count": null,
   "id": "47309978-8795-4e9d-b458-79944025d9c2",
   "metadata": {},
   "outputs": [],
   "source": []
  },
  {
   "cell_type": "markdown",
   "id": "6b908e3c-7845-4c38-81cf-42001432cda4",
   "metadata": {},
   "source": [
    "## Submission test"
   ]
  },
  {
   "cell_type": "markdown",
   "id": "47bb1b44-e53c-4785-a355-2eb8978b41d3",
   "metadata": {},
   "source": [
    "#### Submission File Format\n",
    "The file should contain a header and have the following format:\n",
    "\n",
    "| Id     | SalePrice  |\n",
    "|--------|------------|\n",
    "| 1461   | 169000.1   |\n",
    "| 1462   | 187724.1233|\n",
    "\n",
    "The file must have 1459 rows and 2 columns\n",
    "\n",
    "You can see an example submission file (sample_submission.csv) in `/data/sample_submission.csv`"
   ]
  },
  {
   "cell_type": "markdown",
   "id": "55084115-4802-49d3-a8fb-cdb0e84fd453",
   "metadata": {},
   "source": [
    "#### Submitting the test file"
   ]
  },
  {
   "cell_type": "code",
   "execution_count": 37,
   "id": "c56ba6f1-09eb-4383-9c34-01c3ba5c4a1e",
   "metadata": {
    "tags": []
   },
   "outputs": [],
   "source": [
    "sample_submission_file = './data/sample_submission.csv'"
   ]
  },
  {
   "cell_type": "code",
   "execution_count": 38,
   "id": "481c84e8-4abd-41c1-be09-d1e223f35d50",
   "metadata": {
    "tags": []
   },
   "outputs": [],
   "source": [
    "submission_df = pd.read_csv(sample_submission_file)"
   ]
  },
  {
   "cell_type": "code",
   "execution_count": 40,
   "id": "c0640f25-45d1-4815-9b23-a97af03896fd",
   "metadata": {
    "tags": []
   },
   "outputs": [],
   "source": [
    "# there are fixed rules for submission datafiles, as noted above - assert this is true\n",
    "assert submission_df.shape == (1459, 2)"
   ]
  },
  {
   "cell_type": "code",
   "execution_count": 34,
   "id": "114ac890-8ba9-4926-a8d8-5463f2d4c44e",
   "metadata": {
    "tags": []
   },
   "outputs": [
    {
     "name": "stdout",
     "output_type": "stream",
     "text": [
      "100%|██████████████████████████████████████| 31.2k/31.2k [00:01<00:00, 31.2kB/s]\n",
      "Successfully submitted to House Prices - Advanced Regression Techniques"
     ]
    }
   ],
   "source": [
    "!kaggle competitions submit -c house-prices-advanced-regression-techniques -f {sample_submission_file} -m \"Test - sample submission\""
   ]
  },
  {
   "cell_type": "code",
   "execution_count": 36,
   "id": "7a774d36-ebce-44d7-bd22-3f9fbe740cf6",
   "metadata": {
    "tags": []
   },
   "outputs": [
    {
     "name": "stdout",
     "output_type": "stream",
     "text": [
      "fileName               date                 description               status    publicScore  privateScore  \n",
      "---------------------  -------------------  ------------------------  --------  -----------  ------------  \n",
      "sample_submission.csv  2023-10-19 21:00:55  Test - sample submission  complete  0.40613                    \n"
     ]
    }
   ],
   "source": [
    "!kaggle competitions submissions -c house-prices-advanced-regression-techniques"
   ]
  },
  {
   "cell_type": "code",
   "execution_count": null,
   "id": "be174761-706f-447a-993d-152d94833118",
   "metadata": {},
   "outputs": [],
   "source": []
  }
 ],
 "metadata": {
  "kernelspec": {
   "display_name": "Python 3 (ipykernel)",
   "language": "python",
   "name": "python3"
  },
  "language_info": {
   "codemirror_mode": {
    "name": "ipython",
    "version": 3
   },
   "file_extension": ".py",
   "mimetype": "text/x-python",
   "name": "python",
   "nbconvert_exporter": "python",
   "pygments_lexer": "ipython3",
   "version": "3.11.3"
  }
 },
 "nbformat": 4,
 "nbformat_minor": 5
}
